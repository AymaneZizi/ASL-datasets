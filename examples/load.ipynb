{
  "nbformat": 4,
  "nbformat_minor": 0,
  "metadata": {
    "colab": {
      "name": "Sign Language Datasets Example",
      "private_outputs": true,
      "provenance": [],
      "collapsed_sections": [],
      "authorship_tag": "ABX9TyO4CzzO+Rw1CaPUjLIgwABi",
      "include_colab_link": true
    },
    "kernelspec": {
      "name": "python3",
      "display_name": "Python 3"
    }
  },
  "cells": [
    {
      "cell_type": "markdown",
      "metadata": {
        "id": "view-in-github",
        "colab_type": "text"
      },
      "source": [
        "<a href=\"https://colab.research.google.com/github/sign-language-processing/datasets/blob/master/examples/load.ipynb\" target=\"_parent\"><img src=\"https://colab.research.google.com/assets/colab-badge.svg\" alt=\"Open In Colab\"/></a>"
      ]
    },
    {
      "cell_type": "code",
      "metadata": {
        "id": "ov6fuFwGjlsy"
      },
      "source": [
        "%%capture\n",
        "! pip install git+https://github.com/sign-language-processing/datasets.git"
      ],
      "execution_count": null,
      "outputs": []
    },
    {
      "cell_type": "code",
      "metadata": {
        "id": "C4PZsi6pPp9j"
      },
      "source": [
        "import tensorflow_datasets as tfds\n",
        "import sign_language_datasets.datasets\n",
        "from sign_language_datasets.datasets.config import SignDatasetConfig"
      ],
      "execution_count": null,
      "outputs": []
    },
    {
      "cell_type": "markdown",
      "metadata": {
        "id": "PKGZ4JXCZmSE"
      },
      "source": [
        "# RWTH Phoenix 2014 T"
      ]
    },
    {
      "cell_type": "code",
      "metadata": {
        "id": "8wU1Q4URqRBE"
      },
      "source": [
        "import itertools\n",
        "\n",
        "config = SignDatasetConfig(name=\"only-annotations\", version=\"3.0.0\", include_video=False)\n",
        "rwth_phoenix2014_t = tfds.load(name='rwth_phoenix2014_t', builder_kwargs=dict(config=config))\n",
        "\n",
        "for datum in itertools.islice(rwth_phoenix2014_t[\"train\"], 0, 10):\n",
        "  print(datum['gloss'].numpy().decode('utf-8'))\n",
        "  print(datum['text'].numpy().decode('utf-8'))\n",
        "  print()"
      ],
      "execution_count": null,
      "outputs": []
    },
    {
      "cell_type": "markdown",
      "metadata": {
        "id": "OcIs13W6TfWz"
      },
      "source": [
        "# ChicagoFSWild+"
      ]
    },
    {
      "cell_type": "code",
      "metadata": {
        "id": "o1X1kIgoTfec"
      },
      "source": [
        "import itertools\n",
        "\n",
        "# Version 2.0.0 is ChicagoFSWild+, 1.0.0 is ChicagoFSWild\n",
        "config = SignDatasetConfig(name=\"only-annotations\", version=\"2.0.0\", include_video=False)\n",
        "chicagofswild = tfds.load(name='chicago_fs_wild', builder_kwargs=dict(config=config))\n",
        "\n",
        "for datum in itertools.islice(chicagofswild[\"train\"], 0, 10):\n",
        "  print(datum['text'].numpy().decode('utf-8'))"
      ],
      "execution_count": null,
      "outputs": []
    },
    {
      "cell_type": "markdown",
      "metadata": {
        "id": "XK7jyOOtYv_P"
      },
      "source": [
        "# AUTSL"
      ]
    },
    {
      "cell_type": "code",
      "metadata": {
        "id": "dfZnI9K8YxfJ"
      },
      "source": [
        "import itertools\n",
        "\n",
        "config = SignDatasetConfig(name=\"only-annotations\", version=\"1.0.0\", include_video=False)\n",
        "autsl = tfds.load(name='autsl', builder_kwargs={\"config\": config})\n",
        "\n",
        "for datum in itertools.islice(autsl[\"train\"], 0, 10):\n",
        "  print(datum['id'].numpy().decode('utf-8'), datum['gloss_id'].numpy())"
      ],
      "execution_count": null,
      "outputs": []
    },
    {
      "cell_type": "markdown",
      "metadata": {
        "id": "rykmI68x3E07"
      },
      "source": [
        "# SignBank"
      ]
    },
    {
      "cell_type": "code",
      "metadata": {
        "id": "12XcWfeg21kE"
      },
      "source": [
        "import itertools\n",
        "\n",
        "signbank = tfds.load(name='sign_bank')\n",
        "\n",
        "for datum in itertools.islice(signbank[\"train\"], 0, 10):\n",
        "  print(datum['id'].numpy().decode('utf-8'), datum['sign_writing'].numpy().decode('utf-8'), [f.decode('utf-8') for f in datum['terms'].numpy()])"
      ],
      "execution_count": null,
      "outputs": []
    },
    {
      "cell_type": "markdown",
      "metadata": {
        "id": "pNJdG7ExZugh"
      },
      "source": [
        "# DGS Corpus"
      ]
    },
    {
      "cell_type": "code",
      "metadata": {
        "id": "TVjrhsbtbWbX"
      },
      "source": [
        "%%capture\n",
        "! pip install pympi-ling"
      ],
      "execution_count": null,
      "outputs": []
    },
    {
      "cell_type": "code",
      "metadata": {
        "id": "m1XvMTs9Zvx4"
      },
      "source": [
        "config = SignDatasetConfig(name=\"only-annotations\", version=\"1.0.0\", include_video=False, include_pose=None)\n",
        "dgs_corpus = tfds.load('dgs_corpus', builder_kwargs=dict(config=config))\n",
        "\n",
        "from sign_language_datasets.datasets.dgs_corpus.dgs_utils import get_elan_sentences\n",
        "\n",
        "for datum in itertools.islice(dgs_corpus[\"train\"], 0, 10):\n",
        "  elan_path = datum[\"paths\"][\"eaf\"].numpy().decode('utf-8')\n",
        "  sentences =  get_elan_sentences(elan_path)\n",
        "\n",
        "  try:\n",
        "    sentence = next(sentences)\n",
        "    print(\" \".join([s[\"gloss\"] for s in sentence[\"glosses\"]]))\n",
        "    print(sentence[\"german\"])\n",
        "    print()\n",
        "  except StopIteration:\n",
        "    pass"
      ],
      "execution_count": null,
      "outputs": []
    }
  ]
}