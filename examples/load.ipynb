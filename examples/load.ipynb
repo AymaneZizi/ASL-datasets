{
  "nbformat": 4,
  "nbformat_minor": 0,
  "metadata": {
    "colab": {
      "name": "Sign Language Datasets Example",
      "private_outputs": true,
      "provenance": [],
      "authorship_tag": "ABX9TyOUgQ80rJrtgYC4Y7zt8vS1",
      "include_colab_link": true
    },
    "kernelspec": {
      "name": "python3",
      "display_name": "Python 3"
    }
  },
  "cells": [
    {
      "cell_type": "markdown",
      "metadata": {
        "id": "view-in-github",
        "colab_type": "text"
      },
      "source": [
        "<a href=\"https://colab.research.google.com/github/sign-language-processing/datasets/blob/master/examples/load.ipynb\" target=\"_parent\"><img src=\"https://colab.research.google.com/assets/colab-badge.svg\" alt=\"Open In Colab\"/></a>"
      ]
    },
    {
      "cell_type": "code",
      "metadata": {
        "id": "ov6fuFwGjlsy"
      },
      "source": [
        "%%capture\r\n",
        "! pip install git+https://github.com/sign-language-processing/datasets.git"
      ],
      "execution_count": null,
      "outputs": []
    },
    {
      "cell_type": "code",
      "metadata": {
        "id": "kR_wDlvnj7zT"
      },
      "source": [
        "import tensorflow_datasets as tfds\r\n",
        "import sign_language_datasets.datasets\r\n",
        "from sign_language_datasets.datasets.config import SignDatasetConfig\r\n",
        "\r\n",
        "\r\n",
        "config = SignDatasetConfig(name=\"annotations\", version=\"3.0.0\", include_video=False)\r\n",
        "\r\n",
        "rwth_phoenix2014_t = tfds.load(name='rwth_phoenix2014_t',\r\n",
        "                               builder_kwargs=dict(config=config))"
      ],
      "execution_count": null,
      "outputs": []
    },
    {
      "cell_type": "code",
      "metadata": {
        "id": "8wU1Q4URqRBE"
      },
      "source": [
        "# Print a few examples\r\n",
        "\r\n",
        "import itertools\r\n",
        "\r\n",
        "for datum in itertools.islice(rwth_phoenix2014_t[\"train\"], 0, 10):\r\n",
        "  print(datum['gloss'].numpy().decode('utf-8'))\r\n",
        "  print(datum['text'].numpy().decode('utf-8'))\r\n",
        "  print()"
      ],
      "execution_count": null,
      "outputs": []
    }
  ]
}