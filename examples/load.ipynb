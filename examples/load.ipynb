{
  "nbformat": 4,
  "nbformat_minor": 0,
  "metadata": {
    "colab": {
      "name": "Sign Language Datasets Example",
      "private_outputs": true,
      "provenance": [],
      "collapsed_sections": [],
      "authorship_tag": "ABX9TyPH/EJo1hWWv9dLeig2Cels",
      "include_colab_link": true
    },
    "kernelspec": {
      "name": "python3",
      "display_name": "Python 3"
    }
  },
  "cells": [
    {
      "cell_type": "markdown",
      "metadata": {
        "id": "view-in-github",
        "colab_type": "text"
      },
      "source": [
        "<a href=\"https://colab.research.google.com/github/sign-language-processing/datasets/blob/master/examples/load.ipynb\" target=\"_parent\"><img src=\"https://colab.research.google.com/assets/colab-badge.svg\" alt=\"Open In Colab\"/></a>"
      ]
    },
    {
      "cell_type": "code",
      "metadata": {
        "id": "ov6fuFwGjlsy"
      },
      "source": [
        "%%capture\r\n",
        "! pip install git+https://github.com/sign-language-processing/datasets.git"
      ],
      "execution_count": null,
      "outputs": []
    },
    {
      "cell_type": "code",
      "metadata": {
        "id": "C4PZsi6pPp9j"
      },
      "source": [
        "import tensorflow_datasets as tfds\r\n",
        "import sign_language_datasets.datasets\r\n",
        "from sign_language_datasets.datasets.config import SignDatasetConfig"
      ],
      "execution_count": null,
      "outputs": []
    },
    {
      "cell_type": "markdown",
      "metadata": {
        "id": "PKGZ4JXCZmSE"
      },
      "source": [
        "# RWTH Phoenix 2014 T"
      ]
    },
    {
      "cell_type": "code",
      "metadata": {
        "id": "8wU1Q4URqRBE"
      },
      "source": [
        "import itertools\r\n",
        "\r\n",
        "config = SignDatasetConfig(name=\"only-annotations\", version=\"3.0.0\", include_video=False)\r\n",
        "rwth_phoenix2014_t = tfds.load(name='rwth_phoenix2014_t', builder_kwargs=dict(config=config))\r\n",
        "\r\n",
        "for datum in itertools.islice(rwth_phoenix2014_t[\"train\"], 0, 10):\r\n",
        "  print(datum['gloss'].numpy().decode('utf-8'))\r\n",
        "  print(datum['text'].numpy().decode('utf-8'))\r\n",
        "  print()"
      ],
      "execution_count": null,
      "outputs": []
    },
    {
      "cell_type": "markdown",
      "metadata": {
        "id": "XK7jyOOtYv_P"
      },
      "source": [
        "# AUTSL"
      ]
    },
    {
      "cell_type": "code",
      "metadata": {
        "id": "dfZnI9K8YxfJ"
      },
      "source": [
        "import itertools\r\n",
        "\r\n",
        "# AUTSL requires your decryption key if you want to load videos\r\n",
        "TRAIN_DECRYPTION_KEY = \"\"\r\n",
        "VALID_DECRYPTION_KEY = \"\"\r\n",
        "\r\n",
        "config = SignDatasetConfig(name=\"only-annotations\", version=\"1.0.0\", include_video=False)\r\n",
        "autsl = tfds.load(name='autsl', builder_kwargs={\r\n",
        "    \"config\": config, \r\n",
        "    \"train_decryption_key\": TRAIN_DECRYPTION_KEY, \r\n",
        "    \"valid_decryption_key\": VALID_DECRYPTION_KEY\r\n",
        "})\r\n",
        "\r\n",
        "for datum in itertools.islice(autsl[\"train\"], 0, 10):\r\n",
        "  print(datum['id'].numpy().decode('utf-8'), datum['gloss_id'].numpy())"
      ],
      "execution_count": null,
      "outputs": []
    },
    {
      "cell_type": "markdown",
      "metadata": {
        "id": "pNJdG7ExZugh"
      },
      "source": [
        "# DGS Corpus"
      ]
    },
    {
      "cell_type": "code",
      "metadata": {
        "id": "TVjrhsbtbWbX"
      },
      "source": [
        "%%capture\r\n",
        "! pip install pympi-ling"
      ],
      "execution_count": null,
      "outputs": []
    },
    {
      "cell_type": "code",
      "metadata": {
        "id": "m1XvMTs9Zvx4"
      },
      "source": [
        "config = SignDatasetConfig(name=\"only-annotations\", version=\"1.0.0\", include_video=False, include_pose=None)\r\n",
        "dgs_corpus = tfds.load('dgs_corpus', builder_kwargs=dict(config=config))\r\n",
        "\r\n",
        "from sign_language_datasets.datasets.dgs_corpus.dgs_utils import get_elan_sentences\r\n",
        "\r\n",
        "for datum in itertools.islice(dgs_corpus[\"train\"], 0, 10):\r\n",
        "  elan_path = datum[\"paths\"][\"eaf\"].numpy().decode('utf-8')\r\n",
        "  sentences =  get_elan_sentences(elan_path)\r\n",
        "\r\n",
        "  try:\r\n",
        "    sentence = next(sentences)\r\n",
        "    print(\" \".join([s[\"gloss\"] for s in sentence[\"glosses\"]]))\r\n",
        "    print(sentence[\"german\"])\r\n",
        "    print()\r\n",
        "  except StopIteration:\r\n",
        "    pass"
      ],
      "execution_count": null,
      "outputs": []
    }
  ]
}