{
  "nbformat": 4,
  "nbformat_minor": 0,
  "metadata": {
    "colab": {
      "name": "Sign Language Datasets Example",
      "private_outputs": true,
      "provenance": [],
      "authorship_tag": "ABX9TyMVSGcbeXXd1jxMzK/8D/aA",
      "include_colab_link": true
    },
    "kernelspec": {
      "name": "python3",
      "display_name": "Python 3"
    }
  },
  "cells": [
    {
      "cell_type": "markdown",
      "metadata": {
        "id": "view-in-github",
        "colab_type": "text"
      },
      "source": [
        "<a href=\"https://colab.research.google.com/github/sign-language-processing/datasets/blob/master/examples/load.ipynb\" target=\"_parent\"><img src=\"https://colab.research.google.com/assets/colab-badge.svg\" alt=\"Open In Colab\"/></a>"
      ]
    },
    {
      "cell_type": "code",
      "metadata": {
        "id": "ov6fuFwGjlsy"
      },
      "source": [
        "%%capture\r\n",
        "! pip install git+https://github.com/sign-language-processing/datasets.git"
      ],
      "execution_count": null,
      "outputs": []
    },
    {
      "cell_type": "code",
      "metadata": {
        "id": "kR_wDlvnj7zT"
      },
      "source": [
        "import tensorflow_datasets as tfds\r\n",
        "import sign_language_datasets.datasets\r\n",
        "from sign_language_datasets.datasets.config import SignDatasetConfig"
      ],
      "execution_count": null,
      "outputs": []
    },
    {
      "cell_type": "markdown",
      "metadata": {
        "id": "PKGZ4JXCZmSE"
      },
      "source": [
        "# RWTH Phoenix 2014 T"
      ]
    },
    {
      "cell_type": "code",
      "metadata": {
        "id": "8wU1Q4URqRBE"
      },
      "source": [
        "import itertools\r\n",
        "\r\n",
        "config = SignDatasetConfig(name=\"only-annotations\", version=\"3.0.0\", include_video=False)\r\n",
        "rwth_phoenix2014_t = tfds.load(name='rwth_phoenix2014_t', builder_kwargs=dict(config=config))\r\n",
        "\r\n",
        "for datum in itertools.islice(rwth_phoenix2014_t[\"train\"], 0, 10):\r\n",
        "  print(datum['gloss'].numpy().decode('utf-8'))\r\n",
        "  print(datum['text'].numpy().decode('utf-8'))\r\n",
        "  print()"
      ],
      "execution_count": null,
      "outputs": []
    },
    {
      "cell_type": "markdown",
      "metadata": {
        "id": "pNJdG7ExZugh"
      },
      "source": [
        "# DGS Corpus"
      ]
    },
    {
      "cell_type": "code",
      "metadata": {
        "id": "TVjrhsbtbWbX"
      },
      "source": [
        "%%capture\r\n",
        "! pip install pympi-ling"
      ],
      "execution_count": null,
      "outputs": []
    },
    {
      "cell_type": "code",
      "metadata": {
        "id": "m1XvMTs9Zvx4"
      },
      "source": [
        "config = SignDatasetConfig(name=\"only-annotations\", version=\"1.0.0\", include_video=False, include_pose=None)\r\n",
        "dgs_corpus = tfds.load('dgs_corpus', builder_kwargs=dict(config=config))\r\n",
        "\r\n",
        "from sign_language_datasets.datasets.dgs_corpus.dgs_utils import get_elan_sentences\r\n",
        "\r\n",
        "for datum in itertools.islice(dgs_corpus[\"train\"], 0, 10):\r\n",
        "  elan_path = datum[\"paths\"][\"eaf\"].numpy().decode('utf-8')\r\n",
        "  sentences = list(get_elan_sentences(elan_path))\r\n",
        "  \r\n",
        "  if len(sentences) > 0:\r\n",
        "    sentence = sentences[0]\r\n",
        "    print(\" \".join([s[\"gloss\"] for s in sentence[\"glosses\"]]))\r\n",
        "    print(sentence[\"german\"])\r\n",
        "    print()"
      ],
      "execution_count": null,
      "outputs": []
    }
  ]
}